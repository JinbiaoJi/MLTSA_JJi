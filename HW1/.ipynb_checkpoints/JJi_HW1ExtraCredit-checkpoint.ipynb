{
 "cells": [
  {
   "cell_type": "markdown",
   "metadata": {
    "colab_type": "text",
    "id": "view-in-github"
   },
   "source": [
    "<a href=\"https://colab.research.google.com/github/fedhere/MLTSA_FBianco/blob/master/HW1/HW1ExtraCredit.ipynb\" target=\"_parent\"><img src=\"https://colab.research.google.com/assets/colab-badge.svg\" alt=\"Open In Colab\"/></a>"
   ]
  },
  {
   "cell_type": "markdown",
   "metadata": {
    "colab_type": "text",
    "id": "z0R0TGbtWEPn"
   },
   "source": [
    "MLTSA UDel PHYS667 Sprint 2020"
   ]
  },
  {
   "cell_type": "markdown",
   "metadata": {
    "colab_type": "text",
    "id": "k8oMoAaaWKIs"
   },
   "source": [
    "HW1 Extra Credit :"
   ]
  },
  {
   "cell_type": "markdown",
   "metadata": {
    "colab_type": "text",
    "id": "rVdc0fnvWNEZ"
   },
   "source": [
    "Solve Exercise 1, 2, 3 from https://arxiv.org/pdf/1008.4686.pdf"
   ]
  },
  {
   "cell_type": "code",
   "execution_count": 3,
   "metadata": {},
   "outputs": [],
   "source": [
    "import numpy as np\n",
    "import matplotlib.pyplot as plt\n",
    "\n",
    "%matplotlib inline"
   ]
  },
  {
   "cell_type": "markdown",
   "metadata": {},
   "source": [
    "**Exercise 1:** Using the standard linear algebra method of this Section, fit the straight line y = mx + b to the x, y, and $\\sigma_y$ values for data points 5 through 20 in Table 1 on page 6. That is, ignore the first four data points, and also ignore the columns for $\\sigma_x$ and $\\rho_{xy}$. Make a plot showing the points, their uncertainties, and the best-fit line. Your plot should end up looking like Figure 1. What is the standard uncertainty variance $\\sigma^2_m$ on the slope of the line?"
   ]
  },
  {
   "cell_type": "code",
   "execution_count": 7,
   "metadata": {},
   "outputs": [],
   "source": [
    "#Data\n",
    "x = np.array([201, 244, 47, 287, 203, 58, 210, 202, 198, 158, 165, 201, 157, 131, 166, 160, 186, 125, 218, 146], dtype = float)\n",
    "y = np.array([592, 401, 583, 402, 495, 173, 479, 504, 510, 416, 393, 442, 317, 311, 400, 337, 423, 334, 533, 344], dtype = float)\n",
    "\n",
    "sigma_y = np.array([61, 25, 38, 15, 21, 15, 27, 14, 30, 16, 14, 25, 52, 16, 34, 31, 42, 26, 16, 22], dtype = float)\n",
    "sigma_x = np.array([9, 4, 11, 7, 5, 9, 4, 4, 11, 7, 5, 5, 5, 6, 6, 5, 9, 8, 6, 5], dtype = float)\n",
    "rho_xy = np.array([-0.84, 0.31, 0.64, -0.27, -0.33, 0.67, -0.02, -0.05, -0.84, -0.69, 0.30, -0.46, -0.03, 0.50, 0.73, -0.52, 0.90, 0.40, -0.78, -0.56], dtype = float)\n"
   ]
  },
  {
   "cell_type": "markdown",
   "metadata": {},
   "source": [
    "Solve the equation:\n",
    "$$\n",
    "\\left[\\begin{array}{l}\n",
    "{\\mathrm{b}} \\\\\n",
    "{\\mathrm{m}}\n",
    "\\end{array}\\right]=\\boldsymbol{X}=\\left[\\boldsymbol{A}^{\\top} \\boldsymbol{C}^{-1} \\boldsymbol{A}\\right]^{-1}\\left[\\boldsymbol{A}^{\\top} \\boldsymbol{C}^{-1} \\boldsymbol{Y}\\right]\n",
    "$$\n",
    "\n",
    "Covariance matrix:\n",
    "\n",
    "$$\n",
    "\\left[\\begin{array}{cc}\n",
    "{\\boldsymbol{A}^{\\top} \\boldsymbol{C}^{-1} \\boldsymbol{A}}\n",
    "\\end{array}\\right]^{-1}\n",
    "$$"
   ]
  },
  {
   "cell_type": "code",
   "execution_count": 41,
   "metadata": {},
   "outputs": [
    {
     "name": "stdout",
     "output_type": "stream",
     "text": [
      "b = 34.047727757542816 ; m = 2.239920831631089\n",
      "Δb =  18.24616674926818 ; Δm = 0.1077804765405008\n"
     ]
    }
   ],
   "source": [
    "from numpy.linalg import inv\n",
    "\n",
    "A = np.c_[np.ones(len(x[4:])), x[4:]]\n",
    "C = np.diag(sigma_y[4:]**2)\n",
    "\n",
    "theta_best = inv(A.T.dot(inv(C)).dot(A)).dot(A.T.dot(inv(C)).dot(y[4:]))\n",
    "\n",
    "cov_matrix = inv(A.T.dot(inv(C)).dot(A))\n",
    "uncs = np.sqrt(np.diagonal(cov_matrix))\n",
    "\n",
    "b, m = theta_best\n",
    "unc_b, unc_m = uncs\n",
    "print('b = {.4f}\n",
    "print('Δb = ',unc_b, '; Δm =',unc_m)"
   ]
  },
  {
   "cell_type": "code",
   "execution_count": 32,
   "metadata": {},
   "outputs": [
    {
     "data": {
      "text/plain": [
       "array([3.32922601e+02, 1.16166311e-02])"
      ]
     },
     "execution_count": 32,
     "metadata": {},
     "output_type": "execute_result"
    }
   ],
   "source": [
    "np.diagonal(cov_matrix)"
   ]
  },
  {
   "cell_type": "code",
   "execution_count": 29,
   "metadata": {},
   "outputs": [
    {
     "data": {
      "text/plain": [
       "(0, 800)"
      ]
     },
     "execution_count": 29,
     "metadata": {},
     "output_type": "execute_result"
    },
    {
     "data": {
      "image/png": "[encoded data removed]",
      "text/plain": [
       "<Figure size 432x288 with 1 Axes>"
      ]
     },
     "metadata": {
      "needs_background": "light"
     },
     "output_type": "display_data"
    }
   ],
   "source": [
    "plt.errorbar(x[4:],y[4:], yerr = sigma_y[4:], fmt ='o', linestyle = \"\")\n",
    "\n",
    "plt.plot()\n",
    "\n",
    "plt.xlabel(r\"$x$\")\n",
    "plt.ylabel(r\"$y$\")\n",
    "plt.xlim(0, 300)\n",
    "plt.ylim(0, 800)"
   ]
  },
  {
   "cell_type": "markdown",
   "metadata": {},
   "source": [
    "**Exercise 2:** Repeat Exercise 1 but for all the data points in Table 1 on page 6. Your plot should end up looking like Figure 2. What is the standard uncertainty variance \u0000m2 on the slope of the line? Is there anything you don’t like about the result? Is there anything di↵erent about the new points you have included beyond those used in Exercise 1?"
   ]
  },
  {
   "cell_type": "code",
   "execution_count": null,
   "metadata": {},
   "outputs": [],
   "source": []
  },
  {
   "cell_type": "markdown",
   "metadata": {},
   "source": []
  }
 ],
 "metadata": {
  "colab": {
   "authorship_tag": "ABX9TyMS88hi8gz/YMoUFcu8kO6z",
   "include_colab_link": true,
   "name": "HW1ExtraCredit.ipynb",
   "provenance": []
  },
  "kernelspec": {
   "display_name": "Python 3",
   "language": "python",
   "name": "python3"
  },
  "language_info": {
   "codemirror_mode": {
    "name": "ipython",
    "version": 3
   },
   "file_extension": ".py",
   "mimetype": "text/x-python",
   "name": "python",
   "nbconvert_exporter": "python",
   "pygments_lexer": "ipython3",
   "version": "3.7.2"
  }
 },
 "nbformat": 4,
 "nbformat_minor": 1
}
