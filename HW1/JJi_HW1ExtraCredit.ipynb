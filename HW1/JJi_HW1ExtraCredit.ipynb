{
 "cells": [
  {
   "cell_type": "markdown",
   "metadata": {
    "colab_type": "text",
    "id": "view-in-github"
   },
   "source": [
    "<a href=\"https://colab.research.google.com/github/fedhere/MLTSA1_FBianco/blob/master/HW1/HW1ExtraCredit.ipynb\" target=\"_parent\"><img src=\"https://colab.research.google.com/assets/colab-badge.svg\" alt=\"Open In Colab\"/></a>"
   ]
  },
  {
   "cell_type": "markdown",
   "metadata": {
    "colab_type": "text",
    "id": "z0R0TGbtWEPn"
   },
   "source": [
    "MLTSA1 UDel PHYS667 Sprint 2020"
   ]
  },
  {
   "cell_type": "markdown",
   "metadata": {
    "colab_type": "text",
    "id": "k8oMoAaaWKIs"
   },
   "source": [
    "HW1 Extra Credit :"
   ]
  },
  {
   "cell_type": "markdown",
   "metadata": {
    "colab_type": "text",
    "id": "rVdc0fnvWNEZ"
   },
   "source": [
    "Solve Exercise 1, 2, 3 from https://arxiv.org/pdf/1008.4686.pdf"
   ]
  },
  {
   "cell_type": "code",
   "execution_count": 3,
   "metadata": {},
   "outputs": [],
   "source": [
    "import numpy as np\n",
    "import matplotlib.pyplot as plt\n",
    "\n",
    "%matplotlib inline"
   ]
  },
  {
   "cell_type": "markdown",
   "metadata": {},
   "source": [
    "**Exercise 1:** Using the standard linear algebra method of this Section, fit the straight line y = mx + b to the x, y, and $\\sigma_y$ values for data points 5 through 20 in Table 1 on page 6. That is, ignore the first four data points, and also ignore the columns for $\\sigma_x$ and $\\rho_{xy}$. Make a plot showing the points, their uncertainties, and the best-fit line. Your plot should end up looking like Figure 1. What is the standard uncertainty variance $\\sigma^2_m$ on the slope of the line?"
   ]
  },
  {
   "cell_type": "code",
   "execution_count": 7,
   "metadata": {},
   "outputs": [],
   "source": [
    "#Data\n",
    "x = np.array([201, 244, 47, 287, 203, 58, 210, 202, 198, 158, 165, 201, 157, 131, 166, 160, 186, 125, 218, 146], dtype = float)\n",
    "y = np.array([592, 401, 583, 402, 495, 173, 479, 504, 510, 416, 393, 442, 317, 311, 400, 337, 423, 334, 533, 344], dtype = float)\n",
    "\n",
    "sigma_y = np.array([61, 25, 38, 15, 21, 15, 27, 14, 30, 16, 14, 25, 52, 16, 34, 31, 42, 26, 16, 22], dtype = float)\n",
    "sigma_x = np.array([9, 4, 11, 7, 5, 9, 4, 4, 11, 7, 5, 5, 5, 6, 6, 5, 9, 8, 6, 5], dtype = float)\n",
    "rho_xy = np.array([-0.84, 0.31, 0.64, -0.27, -0.33, 0.67, -0.02, -0.05, -0.84, -0.69, 0.30, -0.46, -0.03, 0.50, 0.73, -0.52, 0.90, 0.40, -0.78, -0.56], dtype = float)\n"
   ]
  },
  {
   "cell_type": "markdown",
   "metadata": {},
   "source": [
    "$$f(x)=m x+b$$\n",
    "Solve the equation:\n",
    "$$\n",
    "\\left[\\begin{array}{l}\n",
    "{\\mathrm{b}} \\\\\n",
    "{\\mathrm{m}}\n",
    "\\end{array}\\right]=\\boldsymbol{X}=\\left[\\boldsymbol{A}^{\\top} \\boldsymbol{C}^{-1} \\boldsymbol{A}\\right]^{-1}\\left[\\boldsymbol{A}^{\\top} \\boldsymbol{C}^{-1} \\boldsymbol{Y}\\right]\n",
    "$$\n",
    "\n",
    "Covariance matrix:\n",
    "\n",
    "$$\n",
    "\\rm{Cov} = \\left[\\begin{array}{cc}\n",
    "{\\boldsymbol{A}^{\\top} \\boldsymbol{C}^{-1} \\boldsymbol{A}}\n",
    "\\end{array}\\right]^{-1}\n",
    "$$"
   ]
  },
  {
   "cell_type": "code",
   "execution_count": 111,
   "metadata": {},
   "outputs": [
    {
     "name": "stdout",
     "output_type": "stream",
     "text": [
      "The parameters and their uncertainties are:\n",
      " b = 34.0477;  m = 2.2399\n",
      "Δb = 18.2462; Δm = 0.1078\n"
     ]
    }
   ],
   "source": [
    "from numpy.linalg import inv\n",
    "\n",
    "A1 = np.c_[np.ones(len(x[4:])), x[4:]]\n",
    "C1 = np.diag(sigma_y[4:]**2)\n",
    "\n",
    "theta_best = inv(A1.T.dot(inv(C1)).dot(A1)).dot(A1.T.dot(inv(C1)).dot(y[4:]))\n",
    "\n",
    "cov_matrix = inv(A1.T.dot(inv(C1)).dot(A1))\n",
    "uncs = np.sqrt(np.diagonal(cov_matrix))\n",
    "\n",
    "b, m = theta_best\n",
    "unc_b, unc_m = uncs\n",
    "\n",
    "print('The parameters and their uncertainties are:')\n",
    "print(' b = {:.4f};  m = {:.4f}'.format(*theta_best))\n",
    "print('Δb = {:.4f}; Δm = {:.4f}'.format(*uncs))"
   ]
  },
  {
   "cell_type": "code",
   "execution_count": 112,
   "metadata": {},
   "outputs": [
    {
     "data": {
      "image/png": "[encoded data removed]",
      "text/plain": [
       "<Figure size 432x288 with 1 Axes>"
      ]
     },
     "metadata": {
      "needs_background": "light"
     },
     "output_type": "display_data"
    }
   ],
   "source": [
    "plt.errorbar(x[4:],y[4:], yerr = sigma_y[4:], fmt ='o', linestyle = \"\")\n",
    "\n",
    "xx = np.linspace(0,300,100)\n",
    "yy = m*xx + b\n",
    "plt.plot(xx,yy, label = 'best fit \\n$y = ({:.2f}\\pm{:.2f})x + ({:.2f} \\pm {:.2f})$'.format(m,unc_m,b,unc_b))\n",
    "\n",
    "plt.legend()\n",
    "plt.xlabel(r\"$x$\")\n",
    "plt.ylabel(r\"$y$\")\n",
    "plt.xlim(0, 300)\n",
    "plt.ylim(0, 800);"
   ]
  },
  {
   "cell_type": "markdown",
   "metadata": {},
   "source": [
    "**Exercise 2:** Repeat Exercise 1 but for all the data points in Table 1 on page 6. Your plot should end up looking like Figure 2. What is the standard uncertainty variance \u0000m2 on the slope of the line? Is there anything you don’t like about the result? Is there anything di↵erent about the new points you have included beyond those used in Exercise 1?"
   ]
  },
  {
   "cell_type": "code",
   "execution_count": 107,
   "metadata": {},
   "outputs": [
    {
     "name": "stdout",
     "output_type": "stream",
     "text": [
      "The parameters and their uncertainties are:\n",
      " b = 213.2735;  m = 1.0767\n",
      "Δb = 14.3940; Δm = 0.0774\n"
     ]
    }
   ],
   "source": [
    "A2 = np.c_[np.ones(len(x)), x]\n",
    "C2 = np.diag(sigma_y**2)\n",
    "\n",
    "theta_best = inv(A2.T.dot(inv(C2)).dot(A2)).dot(A2.T.dot(inv(C2)).dot(y))\n",
    "\n",
    "cov_matrix = inv(A2.T.dot(inv(C2)).dot(A2))\n",
    "uncs = np.sqrt(np.diagonal(cov_matrix))\n",
    "\n",
    "b, m = theta_best\n",
    "unc_b, unc_m = uncs\n",
    "\n",
    "print('The parameters and their uncertainties are:')\n",
    "print(' b = {:.4f};  m = {:.4f}'.format(*theta_best))\n",
    "print('Δb = {:.4f}; Δm = {:.4f}'.format(*uncs))"
   ]
  },
  {
   "cell_type": "code",
   "execution_count": 109,
   "metadata": {
    "scrolled": true
   },
   "outputs": [
    {
     "data": {
      "image/png": "[encoded data removed]",
      "text/plain": [
       "<Figure size 432x288 with 1 Axes>"
      ]
     },
     "metadata": {
      "needs_background": "light"
     },
     "output_type": "display_data"
    }
   ],
   "source": [
    "plt.errorbar(x,y, yerr = sigma_y, fmt ='o', linestyle = \"\")\n",
    "\n",
    "xx = np.linspace(0,300,100)\n",
    "yy = m*xx + b\n",
    "plt.plot(xx,yy, label = 'best fit \\n$y = ({:.2f}\\pm{:.2f})x + ({:.2f} \\pm {:.2f})$'.format(m,unc_m,b,unc_b))\n",
    "\n",
    "plt.legend()\n",
    "plt.xlabel(r\"$x$\")\n",
    "plt.ylabel(r\"$y$\")\n",
    "plt.xlim(0, 300)\n",
    "plt.ylim(0, 800);"
   ]
  },
  {
   "cell_type": "markdown",
   "metadata": {},
   "source": [
    "**Exercise 3:** Generalize the method of this Section to fit a general quadratic (second order) relationship. A1dd another column to matrix A1 containing the values $x^2_i$ , and another element to vector X (call it q). Then re-do Exercise 1 but fitting for and plotting the best quadratic relationship: $g(x)=qx^2 +mx+b$ ."
   ]
  },
  {
   "cell_type": "code",
   "execution_count": 115,
   "metadata": {},
   "outputs": [
    {
     "name": "stdout",
     "output_type": "stream",
     "text": [
      "The parameters and their uncertainties are:\n",
      " b = 72.8946;  m = 1.5961;  q = 0.0023\n",
      "Δb = 38.9116; Δm = 0.5797; Δq = 0.0020\n"
     ]
    }
   ],
   "source": [
    "A3 = np.c_[np.ones(len(x[4:])), x[4:], x[4:]**2]\n",
    "C3 = C1\n",
    "\n",
    "theta_best3 = inv(A3.T.dot(inv(C3)).dot(A3)).dot(A3.T.dot(inv(C3)).dot(y[4:]))\n",
    "\n",
    "cov_matrix = inv(A3.T.dot(inv(C3)).dot(A3))\n",
    "uncs3 = np.sqrt(np.diagonal(cov_matrix))\n",
    "\n",
    "b, m, q = theta_best3\n",
    "unc_b, unc_m, unc_q = uncs3\n",
    "\n",
    "print('The parameters and their uncertainties are:')\n",
    "print(' b = {:.4f};  m = {:.4f};  q = {:.4f}'.format(*theta_best3))\n",
    "print('Δb = {:.4f}; Δm = {:.4f}; Δq = {:.4f}'.format(*uncs3))"
   ]
  },
  {
   "cell_type": "code",
   "execution_count": 121,
   "metadata": {},
   "outputs": [
    {
     "data": {
      "image/png": "[encoded data removed]",
      "text/plain": [
       "<Figure size 432x288 with 1 Axes>"
      ]
     },
     "metadata": {
      "needs_background": "light"
     },
     "output_type": "display_data"
    }
   ],
   "source": [
    "plt.errorbar(x,y, yerr = sigma_y, fmt ='o', linestyle = \"\")\n",
    "\n",
    "xx = np.linspace(0,300,100)\n",
    "yy = q*xx**2+m*xx + b\n",
    "plt.plot(xx,yy, label = 'best fit \\\n",
    "         \\n $y = ({:.4f}\\pm{:.4f})x^2 + ({:.2f}\\pm{:.2f})x + ({:.0f} \\pm {:.0f})$'.format(q,unc_q,m,unc_m,b,unc_b))\n",
    "\n",
    "plt.legend()\n",
    "plt.xlabel(r\"$x$\")\n",
    "plt.ylabel(r\"$y$\")\n",
    "plt.xlim(0, 300)\n",
    "plt.ylim(0, 900);"
   ]
  }
 ],
 "metadata": {
  "colab": {
   "authorship_tag": "ABX9TyMS88hi8gz/YMoUFcu8kO6z",
   "include_colab_link": true,
   "name": "HW1ExtraCredit.ipynb",
   "provenance": []
  },
  "kernelspec": {
   "display_name": "Python 3",
   "language": "python",
   "name": "python3"
  },
  "language_info": {
   "codemirror_mode": {
    "name": "ipython",
    "version": 3
   },
   "file_extension": ".py",
   "mimetype": "text/x-python",
   "name": "python",
   "nbconvert_exporter": "python",
   "pygments_lexer": "ipython3",
   "version": "3.7.2"
  }
 },
 "nbformat": 4,
 "nbformat_minor": 1
}
